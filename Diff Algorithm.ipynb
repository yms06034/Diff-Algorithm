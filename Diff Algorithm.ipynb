{
 "cells": [
  {
   "cell_type": "code",
   "execution_count": 13,
   "id": "3ab74a45",
   "metadata": {},
   "outputs": [
    {
     "name": "stdout",
     "output_type": "stream",
     "text": [
      "<span style='background-color: pink;'>commit</span><span style='background-color: lightgreen;'>var da</span>te<span style='background-color: pink;'>r</span>_<span style='background-color: pink;'>list_per_mon</span><span style='background-color: lightgreen;'>au</span>th<span style='background-color: pink;'>[</span><span style='background-color: lightgreen;'>or = </span>date + ':' + log[i].author<span style='background-color: pink;'>] = 1</span>;\n"
     ]
    }
   ],
   "source": [
    "from difflib import SequenceMatcher\n",
    "\n",
    "def diff_similarity(s1, s2):\n",
    "    # SequenceMatcher를 사용하여 s1과 s2의 차이를 찾음\n",
    "    matcher = SequenceMatcher(None, s1, s2)\n",
    "    result = []\n",
    "\n",
    "    # get_opcodes()는 (태그, i1, i2, j1, j2) 형태의 \"opcodes\"를 반환\n",
    "    # 태그는 'replace', 'delete', 'insert', 'equal' 중 하나임\n",
    "    for tag, i1, i2, j1, j2 in matcher.get_opcodes():\n",
    "        if tag == 'replace':\n",
    "            result.append(('delete', s1[i1:i2]))\n",
    "            result.append(('insert', s2[j1:j2]))\n",
    "        elif tag == 'delete':\n",
    "            result.append(('delete', s1[i1:i2]))\n",
    "        elif tag == 'insert':\n",
    "            result.append(('insert', s2[j1:j2]))\n",
    "        elif tag == 'equal':\n",
    "            result.append(('equal', s1[i1:i2]))\n",
    "    return result\n",
    "\n",
    "s1 = 'committer_list_per_month[date + \\':\\' + log[i].author] = 1;'\n",
    "s2 = 'var date_author = date + \\':\\' + log[i].author;'\n",
    "\n",
    "diff_result = diff_similarity(s1, s2)\n",
    "\n",
    "formatted_result = ''\n",
    "for tag, substr in diff_result:\n",
    "    if tag == 'insert':\n",
    "        formatted_result += f\"<span style='background-color: lightgreen;'>{substr}</span>\"\n",
    "    elif tag == 'delete':\n",
    "        formatted_result += f\"<span style='background-color: pink;'>{substr}</span>\"\n",
    "    else:\n",
    "        formatted_result += substr\n",
    "\n",
    "print(formatted_result)"
   ]
  },
  {
   "cell_type": "code",
   "execution_count": null,
   "id": "04daaa42",
   "metadata": {},
   "outputs": [],
   "source": []
  }
 ],
 "metadata": {
  "kernelspec": {
   "display_name": "Python 3 (ipykernel)",
   "language": "python",
   "name": "python3"
  },
  "language_info": {
   "codemirror_mode": {
    "name": "ipython",
    "version": 3
   },
   "file_extension": ".py",
   "mimetype": "text/x-python",
   "name": "python",
   "nbconvert_exporter": "python",
   "pygments_lexer": "ipython3",
   "version": "3.11.5"
  }
 },
 "nbformat": 4,
 "nbformat_minor": 5
}
